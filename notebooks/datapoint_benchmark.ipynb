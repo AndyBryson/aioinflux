{
 "cells": [
  {
   "cell_type": "code",
   "execution_count": 1,
   "metadata": {},
   "outputs": [],
   "source": [
    "from aioinflux.serialization import serialize\n",
    "from aioinflux.serialization.datapoint import datapoint, InfluxType"
   ]
  },
  {
   "cell_type": "code",
   "execution_count": 2,
   "metadata": {},
   "outputs": [],
   "source": [
    "@datapoint\n",
    "class Trade:\n",
    "    timestamp: InfluxType.TIMEINT\n",
    "    instrument: InfluxType.TAG\n",
    "    source: InfluxType.TAG\n",
    "    side: InfluxType.TAG\n",
    "    price: InfluxType.FLOAT\n",
    "    size: InfluxType.INT\n",
    "    trade_id: InfluxType.STR"
   ]
  },
  {
   "cell_type": "code",
   "execution_count": 3,
   "metadata": {},
   "outputs": [],
   "source": [
    "trade = Trade(\n",
    "    timestamp=1540184368785116000,\n",
    "    instrument='AAPL',\n",
    "    source='NASDAQ',\n",
    "    side='BUY',\n",
    "    price=219.23,\n",
    "    size=100,\n",
    "    trade_id='34a1e085-3122-429c-9662-7ce82039d287'\n",
    ")"
   ]
  },
  {
   "cell_type": "code",
   "execution_count": 4,
   "metadata": {},
   "outputs": [],
   "source": [
    "trade_dict = {\n",
    "    'time': 1540184368785116000,\n",
    "    'measurement': 'Trade',\n",
    "    'tags': {'instrument': 'AAPL', 'source': 'NASDAQ', 'side': 'BUY'},\n",
    "    'fields': {'price': 219.23, 'size': 100,\n",
    "               'trade_id': '34a1e085-3122-429c-9662-7ce82039d287'}\n",
    "}"
   ]
  },
  {
   "cell_type": "code",
   "execution_count": 5,
   "metadata": {},
   "outputs": [
    {
     "data": {
      "text/plain": [
       "b'Trade,instrument=AAPL,source=NASDAQ,side=BUY size=100i,price=219.23,trade_id=\"34a1e085-3122-429c-9662-7ce82039d287\" 1540184368785116000'"
      ]
     },
     "execution_count": 5,
     "metadata": {},
     "output_type": "execute_result"
    }
   ],
   "source": [
    "trade.to_lineprotocol()"
   ]
  },
  {
   "cell_type": "code",
   "execution_count": 6,
   "metadata": {},
   "outputs": [
    {
     "data": {
      "text/plain": [
       "b'Trade,instrument=AAPL,source=NASDAQ,side=BUY price=219.23,size=100i,trade_id=\"34a1e085-3122-429c-9662-7ce82039d287\" 1540184368785116000'"
      ]
     },
     "execution_count": 6,
     "metadata": {},
     "output_type": "execute_result"
    }
   ],
   "source": [
    "serialize(trade_dict)"
   ]
  },
  {
   "cell_type": "code",
   "execution_count": 7,
   "metadata": {},
   "outputs": [
    {
     "name": "stdout",
     "output_type": "stream",
     "text": [
      "3.35 µs ± 53.7 ns per loop (mean ± std. dev. of 7 runs, 100000 loops each)\n"
     ]
    }
   ],
   "source": [
    "%timeit trade.to_lineprotocol()"
   ]
  },
  {
   "cell_type": "code",
   "execution_count": 8,
   "metadata": {},
   "outputs": [
    {
     "name": "stdout",
     "output_type": "stream",
     "text": [
      "10.7 µs ± 100 ns per loop (mean ± std. dev. of 7 runs, 100000 loops each)\n"
     ]
    }
   ],
   "source": [
    "%timeit serialize(trade_dict)"
   ]
  }
 ],
 "metadata": {
  "kernelspec": {
   "display_name": "Python 3",
   "language": "python",
   "name": "python3"
  },
  "language_info": {
   "codemirror_mode": {
    "name": "ipython",
    "version": 3
   },
   "file_extension": ".py",
   "mimetype": "text/x-python",
   "name": "python",
   "nbconvert_exporter": "python",
   "pygments_lexer": "ipython3",
   "version": "3.7.0"
  }
 },
 "nbformat": 4,
 "nbformat_minor": 2
}
